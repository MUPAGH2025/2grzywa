{
 "cells": [
  {
   "cell_type": "code",
   "execution_count": null,
   "id": "0975ff26",
   "metadata": {},
   "outputs": [],
   "source": [
    "from open_atmos_jupyter_tools import show_plot\n",
    "import numpy as np\n",
    "import matplotlib.pyplot as plt\n",
    "import pint"
   ]
  },
  {
   "cell_type": "code",
   "execution_count": null,
   "id": "1f7bb5b3",
   "metadata": {},
   "outputs": [],
   "source": [
    "si = pint.UnitRegistry()\n",
    "temperture = np.linspace(-20, 40, 100) * si.K\n",
    "def rho(P,T):\n",
    "    R = 287.05 * si.J / (si.kg * si.K)\n",
    "    return (P / (R * T)).to(si.kg / si.m**3)\n",
    "plt.plot(temperture, rho(1023 * si.hPa))"
   ]
  }
 ],
 "metadata": {
  "kernelspec": {
   "display_name": "Python 3",
   "language": "python",
   "name": "python3"
  },
  "language_info": {
   "name": "python",
   "version": "3.14.0"
  }
 },
 "nbformat": 4,
 "nbformat_minor": 5
}
